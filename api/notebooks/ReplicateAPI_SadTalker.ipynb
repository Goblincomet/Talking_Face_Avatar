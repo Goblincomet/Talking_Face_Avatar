{
  "nbformat": 4,
  "nbformat_minor": 0,
  "metadata": {
    "colab": {
      "provenance": [],
      "gpuType": "T4"
    },
    "kernelspec": {
      "name": "python3",
      "display_name": "Python 3"
    },
    "language_info": {
      "name": "python"
    },
    "accelerator": "GPU"
  },
  "cells": [
    {
      "cell_type": "code",
      "execution_count": 1,
      "metadata": {
        "colab": {
          "base_uri": "https://localhost:8080/"
        },
        "id": "LPp16v2gVFem",
        "outputId": "ca3b7992-3192-4c9d-970a-b8ac1dcb08f4"
      },
      "outputs": [
        {
          "output_type": "stream",
          "name": "stdout",
          "text": [
            "Looking in indexes: https://pypi.org/simple, https://us-python.pkg.dev/colab-wheels/public/simple/\n",
            "Collecting replicate\n",
            "  Downloading replicate-0.8.3-py3-none-any.whl (21 kB)\n",
            "Requirement already satisfied: packaging in /usr/local/lib/python3.10/dist-packages (from replicate) (23.1)\n",
            "Requirement already satisfied: pydantic>1 in /usr/local/lib/python3.10/dist-packages (from replicate) (1.10.7)\n",
            "Requirement already satisfied: requests>2 in /usr/local/lib/python3.10/dist-packages (from replicate) (2.27.1)\n",
            "Requirement already satisfied: typing-extensions>=4.2.0 in /usr/local/lib/python3.10/dist-packages (from pydantic>1->replicate) (4.5.0)\n",
            "Requirement already satisfied: urllib3<1.27,>=1.21.1 in /usr/local/lib/python3.10/dist-packages (from requests>2->replicate) (1.26.15)\n",
            "Requirement already satisfied: certifi>=2017.4.17 in /usr/local/lib/python3.10/dist-packages (from requests>2->replicate) (2022.12.7)\n",
            "Requirement already satisfied: charset-normalizer~=2.0.0 in /usr/local/lib/python3.10/dist-packages (from requests>2->replicate) (2.0.12)\n",
            "Requirement already satisfied: idna<4,>=2.5 in /usr/local/lib/python3.10/dist-packages (from requests>2->replicate) (3.4)\n",
            "Installing collected packages: replicate\n",
            "Successfully installed replicate-0.8.3\n"
          ]
        }
      ],
      "source": [
        "!pip install replicate"
      ]
    },
    {
      "cell_type": "code",
      "source": [
        "!export REPLICATE_API_TOKEN=65e3e38ef458370d11969af4a65572f0fe90151c"
      ],
      "metadata": {
        "id": "gAZwQvVgVJsn"
      },
      "execution_count": 2,
      "outputs": []
    },
    {
      "cell_type": "code",
      "source": [
        "import os\n",
        "import replicate\n",
        "\n",
        "#Set the REPLICATE_API_TOKEN environment variable\n",
        "os.environ[\"REPLICATE_API_TOKEN\"] = \"r8_9Jr8DhdnnVAboUV0lDcdeRONFqJrYSE0q9eBp\""
      ],
      "metadata": {
        "id": "ntWEuTDlWHpJ"
      },
      "execution_count": 6,
      "outputs": []
    },
    {
      "cell_type": "code",
      "source": [],
      "metadata": {
        "id": "xvVryvKULWqZ"
      },
      "execution_count": null,
      "outputs": []
    },
    {
      "cell_type": "code",
      "source": [
        "import replicate\n",
        "output = replicate.run(\n",
        "    \"cjwbw/sadtalker:3aa3dac9353cc4d6bd62a8f95957bd844003b401ca4e4a9b33baa574c549d376\",\n",
        "    input={\"source_image\": open(\"/content/sample_data/Leonardo_Select_Portrait_of_beautiful_female_industrial_1900s.jpg\", \"rb\"),\n",
        "          \"driven_audio\":open(\"/content/sample_data/output.mp4\",\"rb\")\n",
        "           \n",
        "           \n",
        "          }\n",
        ")\n",
        "print(output)"
      ],
      "metadata": {
        "colab": {
          "base_uri": "https://localhost:8080/"
        },
        "id": "wdrfFaMhVS2Z",
        "outputId": "598df35b-c101-4525-b9bd-5ef5bea077ee"
      },
      "execution_count": 7,
      "outputs": [
        {
          "output_type": "stream",
          "name": "stdout",
          "text": [
            "https://replicate.delivery/pbxt/l8R5vH3fBoxtDCFgiD5JB9EtkEfpnJfaGOkma93GcCS3pxHiA/out.mp4\n"
          ]
        }
      ]
    }
  ]
}