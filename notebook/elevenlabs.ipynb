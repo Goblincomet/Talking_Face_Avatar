{
 "cells": [
  {
   "attachments": {},
   "cell_type": "markdown",
   "metadata": {},
   "source": [
    "Text To Speech(TTs) Elevenlabs "
   ]
  },
  {
   "cell_type": "markdown",
   "metadata": {},
   "source": [
    "Voice Id\n",
    "\n",
    "Rachel -21m00Tcm4TlvDq8ikWAM\n",
    "Josh - TxGEqnHWrfWFTfGW9XjX\n",
    "Ellie - MF3mGyEYCl7XYWbV9V6O\n",
    "Antoni -ErXwobaYiN019PkySvjV\n",
    "Bella -EXAVITQu4vr4xnSDxMaL\n",
    "Domi- AZnzlk1XvdvUeBnXmlld\n",
    "Arnold-VR6AewLTigWG4xSOukaG\n",
    "Adam-pNInz6obpgDQGcFmaJgB\n",
    "Sam-yoZ06aMxZJJ28mfd3POQ"
   ]
  },
  {
   "cell_type": "code",
   "execution_count": 17,
   "metadata": {},
   "outputs": [],
   "source": [
    "import requests\n",
    "\n",
    "CHUNK_SIZE = 1024\n",
    "url = \"https://api.elevenlabs.io/v1/text-to-speech/EXAVITQu4vr4xnSDxMaL\"\n",
    "\n",
    "headers = {\n",
    "  \"Accept\": \"audio/mpeg\",\n",
    "  \"Content-Type\": \"application/json\",\n",
    "  \"xi-api-key\": \"16bc562d24b6090fe5035c9458707fe9\"\n",
    "}\n",
    "\n",
    "data = {\n",
    "  \"text\": \"\"\"\n",
    "  Valentine's Day (or Saint Valentine's Day) is a holiday that, in the United States, takes place on February 14, and technically signifies the accomplishments of St. Valentine, a third-century Roman saint.\n",
    "With that said, most Americans, instead of honoring St. Valentine through religious ceremony, enjoy the holiday by engaging in \"romantic\" behavior with their significant other or someone who they wish to be their significant other; gifts, special dinners, and other acknowledgements of affection comprise most individuals' Valentine's Day celebrations.\n",
    "Chocolates and flowers are commonly given as gifts during Valentine's Day, as are accompanying greeting cards (greeting card companies release new Valentine's Day designs annually). Red and pink are generally understood to be \"the colors\" of Valentine's Day, and many individuals, instead of celebrating romantically, spend the holiday with their friends and/or family members.\n",
    "Variations of Valentine's Day are celebrated across the globe throughout the year. In America, the holiday, although acknowledged by the vast majority of the population, isn't federally recognized; no time off work is granted for Valentine's Day.\n",
    "\n",
    "  \"\"\",\n",
    "  \"model_id\": \"eleven_monolingual_v1\",\n",
    "  \"voice_settings\": {\n",
    "    \"stability\": 0,\n",
    "    \"similarity_boost\": 0\n",
    "  }\n",
    "}\n",
    "\n",
    "response = requests.post(url, json=data, headers=headers)\n",
    "with open('output.mp3', 'wb') as f:\n",
    "    for chunk in response.iter_content(chunk_size=CHUNK_SIZE):\n",
    "        if chunk:\n",
    "            f.write(chunk)"
   ]
  },
  {
   "attachments": {},
   "cell_type": "markdown",
   "metadata": {},
   "source": [
    "Text To Speech Stream "
   ]
  },
  {
   "cell_type": "code",
   "execution_count": 9,
   "metadata": {},
   "outputs": [],
   "source": [
    "import requests\n",
    "\n",
    "CHUNK_SIZE = 1024\n",
    "url = \"https://api.elevenlabs.io/v1/text-to-speech/21m00Tcm4TlvDq8ikWAM/stream\"\n",
    "\n",
    "headers = {\n",
    "  \"Accept\": \"audio/mpeg\",\n",
    "  \"Content-Type\": \"application/json\",\n",
    "  \"xi-api-key\": \"128c3bf75d5ccb4d0b18af829bc9d763\"\n",
    "}\n",
    "\n",
    "data = {\n",
    "  \"text\": \"In June, Diane visited her friends who live in San Francisco, California. This was Diane’s first time in the city, and she enjoyed her opportunities to walk around and explore.On the first day of her trip, Diane visited the Golden Gate Bridge. This red suspension bridge measures 1.7 miles in length. Diane and her friends did not walk across the bridge. However, they viewed it from the Golden Gate National Recreation Area, which offers hiking trails, picnicking areas, and presents spectacular views of the bridge and city. Diane and her friends made sure to take a group photograph here, featuring the bridge in the background.The next day, Diane and her friends visited Alcatraz Island. This island is located 1.25 miles offshore in the San Francisco Bay. It used to serve as a lighthouse, military fort, and prison. Diane and her friends took a small tour boat across bay to reach the island. Their visit included a guided tour through the old military base and prison. They also took a walk around the island to appreciate some of the native wildlife in addition to the views of the city.Diane and her friends spent the final day of her vist in San Francisco’s downtown area. Diane’s favorite part of her entire trip was taking a trolley to transport her up and down the hilly streets of San Francisco. Diane did a lot of shopping downtown on her last day. She and her friends celebrated the end of her visit by having dinner at one of San Francisco’s best restaurants\",\n",
    "  \"model_id\": \"eleven_monolingual_v1\",\n",
    "  \"voice_settings\": {\n",
    "    \"stability\": 0,\n",
    "    \"similarity_boost\": 0\n",
    "  }\n",
    "}\n",
    "\n",
    "response = requests.post(url, json=data, headers=headers, stream=True)\n",
    "\n",
    "with open('output.mp3', 'wb') as f:\n",
    "    for chunk in response.iter_content(chunk_size=CHUNK_SIZE):\n",
    "        if chunk:\n",
    "            f.write(chunk)\n"
   ]
  },
  {
   "attachments": {},
   "cell_type": "markdown",
   "metadata": {},
   "source": [
    "Get all voices"
   ]
  },
  {
   "cell_type": "code",
   "execution_count": 4,
   "metadata": {},
   "outputs": [
    {
     "name": "stdout",
     "output_type": "stream",
     "text": [
      "{\"voices\":[{\"voice_id\":\"21m00Tcm4TlvDq8ikWAM\",\"name\":\"Rachel\",\"samples\":null,\"category\":\"premade\",\"fine_tuning\":{\"model_id\":null,\"is_allowed_to_fine_tune\":false,\"fine_tuning_requested\":false,\"finetuning_state\":\"not_started\",\"verification_attempts\":null,\"verification_failures\":[],\"verification_attempts_count\":0,\"slice_ids\":null},\"labels\":{},\"description\":null,\"preview_url\":\"https://storage.googleapis.com/eleven-public-prod/premade/voices/21m00Tcm4TlvDq8ikWAM/6edb9076-c3e4-420c-b6ab-11d43fe341c8.mp3\",\"available_for_tiers\":[],\"settings\":null},{\"voice_id\":\"AZnzlk1XvdvUeBnXmlld\",\"name\":\"Domi\",\"samples\":null,\"category\":\"premade\",\"fine_tuning\":{\"model_id\":null,\"is_allowed_to_fine_tune\":false,\"fine_tuning_requested\":false,\"finetuning_state\":\"not_started\",\"verification_attempts\":null,\"verification_failures\":[],\"verification_attempts_count\":0,\"slice_ids\":null},\"labels\":{},\"description\":null,\"preview_url\":\"https://storage.googleapis.com/eleven-public-prod/premade/voices/AZnzlk1XvdvUeBnXmlld/69c5373f-0dc2-4efd-9232-a0140182c0a9.mp3\",\"available_for_tiers\":[],\"settings\":null},{\"voice_id\":\"EXAVITQu4vr4xnSDxMaL\",\"name\":\"Bella\",\"samples\":null,\"category\":\"premade\",\"fine_tuning\":{\"model_id\":null,\"is_allowed_to_fine_tune\":false,\"fine_tuning_requested\":false,\"finetuning_state\":\"not_started\",\"verification_attempts\":null,\"verification_failures\":[],\"verification_attempts_count\":0,\"slice_ids\":null},\"labels\":{},\"description\":null,\"preview_url\":\"https://storage.googleapis.com/eleven-public-prod/premade/voices/EXAVITQu4vr4xnSDxMaL/04365bce-98cc-4e99-9f10-56b60680cda9.mp3\",\"available_for_tiers\":[],\"settings\":null},{\"voice_id\":\"ErXwobaYiN019PkySvjV\",\"name\":\"Antoni\",\"samples\":null,\"category\":\"premade\",\"fine_tuning\":{\"model_id\":null,\"is_allowed_to_fine_tune\":false,\"fine_tuning_requested\":false,\"finetuning_state\":\"not_started\",\"verification_attempts\":null,\"verification_failures\":[],\"verification_attempts_count\":0,\"slice_ids\":null},\"labels\":{},\"description\":null,\"preview_url\":\"https://storage.googleapis.com/eleven-public-prod/premade/voices/ErXwobaYiN019PkySvjV/38d8f8f0-1122-4333-b323-0b87478d506a.mp3\",\"available_for_tiers\":[],\"settings\":null},{\"voice_id\":\"MF3mGyEYCl7XYWbV9V6O\",\"name\":\"Elli\",\"samples\":null,\"category\":\"premade\",\"fine_tuning\":{\"model_id\":null,\"is_allowed_to_fine_tune\":false,\"fine_tuning_requested\":false,\"finetuning_state\":\"not_started\",\"verification_attempts\":null,\"verification_failures\":[],\"verification_attempts_count\":0,\"slice_ids\":null},\"labels\":{},\"description\":null,\"preview_url\":\"https://storage.googleapis.com/eleven-public-prod/premade/voices/MF3mGyEYCl7XYWbV9V6O/f9fd64c3-5d62-45cd-b0dc-ad722ee3284e.mp3\",\"available_for_tiers\":[],\"settings\":null},{\"voice_id\":\"TxGEqnHWrfWFTfGW9XjX\",\"name\":\"Josh\",\"samples\":null,\"category\":\"premade\",\"fine_tuning\":{\"model_id\":null,\"is_allowed_to_fine_tune\":false,\"fine_tuning_requested\":false,\"finetuning_state\":\"not_started\",\"verification_attempts\":null,\"verification_failures\":[],\"verification_attempts_count\":0,\"slice_ids\":null},\"labels\":{},\"description\":null,\"preview_url\":\"https://storage.googleapis.com/eleven-public-prod/premade/voices/TxGEqnHWrfWFTfGW9XjX/c6c80dcd-5fe5-4a4c-a74c-b3fec4c62c67.mp3\",\"available_for_tiers\":[],\"settings\":null},{\"voice_id\":\"VR6AewLTigWG4xSOukaG\",\"name\":\"Arnold\",\"samples\":null,\"category\":\"premade\",\"fine_tuning\":{\"model_id\":null,\"is_allowed_to_fine_tune\":false,\"fine_tuning_requested\":false,\"finetuning_state\":\"not_started\",\"verification_attempts\":null,\"verification_failures\":[],\"verification_attempts_count\":0,\"slice_ids\":null},\"labels\":{},\"description\":null,\"preview_url\":\"https://storage.googleapis.com/eleven-public-prod/premade/voices/VR6AewLTigWG4xSOukaG/66e83dc2-6543-4897-9283-e028ac5ae4aa.mp3\",\"available_for_tiers\":[],\"settings\":null},{\"voice_id\":\"pNInz6obpgDQGcFmaJgB\",\"name\":\"Adam\",\"samples\":null,\"category\":\"premade\",\"fine_tuning\":{\"model_id\":null,\"is_allowed_to_fine_tune\":false,\"fine_tuning_requested\":false,\"finetuning_state\":\"not_started\",\"verification_attempts\":null,\"verification_failures\":[],\"verification_attempts_count\":0,\"slice_ids\":null},\"labels\":{},\"description\":null,\"preview_url\":\"https://storage.googleapis.com/eleven-public-prod/premade/voices/pNInz6obpgDQGcFmaJgB/e0b45450-78db-49b9-aaa4-d5358a6871bd.mp3\",\"available_for_tiers\":[],\"settings\":null},{\"voice_id\":\"yoZ06aMxZJJ28mfd3POQ\",\"name\":\"Sam\",\"samples\":null,\"category\":\"premade\",\"fine_tuning\":{\"model_id\":null,\"is_allowed_to_fine_tune\":false,\"fine_tuning_requested\":false,\"finetuning_state\":\"not_started\",\"verification_attempts\":null,\"verification_failures\":[],\"verification_attempts_count\":0,\"slice_ids\":null},\"labels\":{},\"description\":null,\"preview_url\":\"https://storage.googleapis.com/eleven-public-prod/premade/voices/yoZ06aMxZJJ28mfd3POQ/1c4d417c-ba80-4de8-874a-a1c57987ea63.mp3\",\"available_for_tiers\":[],\"settings\":null}]}\n"
     ]
    }
   ],
   "source": [
    "import requests\n",
    "\n",
    "url = \"https://api.elevenlabs.io/v1/voices\"\n",
    "\n",
    "headers = {\n",
    "  \"Accept\": \"application/json\",\n",
    "  \"xi-api-key\": \"128c3bf75d5ccb4d0b18af829bc9d763\"\n",
    "}\n",
    "\n",
    "response = requests.get(url, headers=headers)\n",
    "\n",
    "print(response.text)"
   ]
  },
  {
   "attachments": {},
   "cell_type": "markdown",
   "metadata": {},
   "source": [
    "Get All Models"
   ]
  },
  {
   "cell_type": "code",
   "execution_count": 5,
   "metadata": {},
   "outputs": [
    {
     "name": "stdout",
     "output_type": "stream",
     "text": [
      "[{\"model_id\":\"eleven_monolingual_v1\",\"name\":\"Eleven Monolingual v1\",\"can_be_finetuned\":true,\"can_do_text_to_speech\":true,\"can_do_voice_conversion\":false,\"token_cost_factor\":1.0,\"description\":\"Use our standard English language model to generate speech in a variety of voices, styles and moods.\",\"languages\":[{\"language_id\":\"en\",\"name\":\"English\"}]},{\"model_id\":\"eleven_multilingual_v1\",\"name\":\"Eleven Multilingual v1\",\"can_be_finetuned\":true,\"can_do_text_to_speech\":true,\"can_do_voice_conversion\":true,\"token_cost_factor\":1.0,\"description\":\"Generate lifelike speech in multiple languages and create content that resonates with a broader audience. \",\"languages\":[{\"language_id\":\"en\",\"name\":\"English\"},{\"language_id\":\"de\",\"name\":\"German\"},{\"language_id\":\"pl\",\"name\":\"Polish\"},{\"language_id\":\"es\",\"name\":\"Spanish\"},{\"language_id\":\"it\",\"name\":\"Italian\"},{\"language_id\":\"fr\",\"name\":\"French\"},{\"language_id\":\"pt\",\"name\":\"Portuguese\"},{\"language_id\":\"hi\",\"name\":\"Hindi\"}]}]\n"
     ]
    }
   ],
   "source": [
    "import requests\n",
    "\n",
    "url = \"https://api.elevenlabs.io/v1/models\"\n",
    "\n",
    "headers = {\n",
    "  \"Accept\": \"application/json\",\n",
    "  \"xi-api-key\": \"128c3bf75d5ccb4d0b18af829bc9d763\"\n",
    "}\n",
    "\n",
    "response = requests.get(url, headers=headers)\n",
    "\n",
    "print(response.text)"
   ]
  },
  {
   "attachments": {},
   "cell_type": "markdown",
   "metadata": {},
   "source": [
    "Get Sample Audion ID"
   ]
  },
  {
   "cell_type": "code",
   "execution_count": 6,
   "metadata": {},
   "outputs": [
    {
     "name": "stdout",
     "output_type": "stream",
     "text": [
      "{\"voice_id\":\"21m00Tcm4TlvDq8ikWAM\",\"name\":\"Rachel\",\"samples\":null,\"category\":\"premade\",\"fine_tuning\":{\"model_id\":null,\"is_allowed_to_fine_tune\":false,\"fine_tuning_requested\":false,\"finetuning_state\":\"not_started\",\"verification_attempts\":null,\"verification_failures\":[],\"verification_attempts_count\":0,\"slice_ids\":null},\"labels\":{},\"description\":null,\"preview_url\":\"https://storage.googleapis.com/eleven-public-prod/premade/voices/21m00Tcm4TlvDq8ikWAM/6edb9076-c3e4-420c-b6ab-11d43fe341c8.mp3\",\"available_for_tiers\":[],\"settings\":{\"stability\":0.75,\"similarity_boost\":0.75}}\n"
     ]
    }
   ],
   "source": [
    "import requests\n",
    "\n",
    "url = \"https://api.elevenlabs.io/v1/voices/21m00Tcm4TlvDq8ikWAM?with_settings=true\"\n",
    "\n",
    "headers = {\n",
    "  \"Accept\": \"application/json\",\n",
    "  \"xi-api-key\": \"128c3bf75d5ccb4d0b18af829bc9d763\"\n",
    "}\n",
    "\n",
    "response = requests.get(url, headers=headers)\n",
    "\n",
    "print(response.text)"
   ]
  },
  {
   "attachments": {},
   "cell_type": "markdown",
   "metadata": {},
   "source": [
    "Get Audio From Sample"
   ]
  },
  {
   "cell_type": "code",
   "execution_count": 7,
   "metadata": {},
   "outputs": [
    {
     "name": "stdout",
     "output_type": "stream",
     "text": [
      "{\"detail\":{\"status\":\"does_not_exist\",\"message\":\"This sample does not exists on the server.\"}}\n"
     ]
    }
   ],
   "source": [
    "import requests\n",
    "\n",
    "url = \"https://api.elevenlabs.io/v1/voices/TxGEqnHWrfWFTfGW9XjX/samples/21m00Tcm4TlvDq8ikWAM/audio\"\n",
    "\n",
    "headers = {\n",
    "  \"Accept\": \"audio/*\",\n",
    "  \"xi-api-key\": \"128c3bf75d5ccb4d0b18af829bc9d763\"\n",
    "}\n",
    "\n",
    "response = requests.get(url, headers=headers)\n",
    "\n",
    "print(response.text)\n"
   ]
  },
  {
   "attachments": {},
   "cell_type": "markdown",
   "metadata": {},
   "source": [
    "Voice Cloning"
   ]
  },
  {
   "cell_type": "code",
   "execution_count": 11,
   "metadata": {},
   "outputs": [
    {
     "name": "stderr",
     "output_type": "stream",
     "text": [
      "1652.10s - pydevd: Sending message related to process being replaced timed-out after 5 seconds\n"
     ]
    },
    {
     "name": "stdout",
     "output_type": "stream",
     "text": [
      "Collecting elevenlabs\n",
      "  Downloading elevenlabs-0.2.12-py3-none-any.whl (9.3 kB)\n",
      "Collecting pydantic>=1.10 (from elevenlabs)\n",
      "  Downloading pydantic-1.10.7-cp310-cp310-manylinux_2_17_x86_64.manylinux2014_x86_64.whl (3.1 MB)\n",
      "\u001b[2K     \u001b[90m━━━━━━━━━━━━━━━━━━━━━━━━━━━━━━━━━━━━━━━━\u001b[0m \u001b[32m3.1/3.1 MB\u001b[0m \u001b[31m53.4 MB/s\u001b[0m eta \u001b[36m0:00:00\u001b[0m:00:01\u001b[0m\n",
      "\u001b[?25hRequirement already satisfied: ipython>=7.0 in /home/codespace/.local/lib/python3.10/site-packages (from elevenlabs) (8.12.0)\n",
      "Requirement already satisfied: requests>=2.20 in /home/codespace/.local/lib/python3.10/site-packages (from elevenlabs) (2.28.2)\n",
      "Requirement already satisfied: backcall in /home/codespace/.local/lib/python3.10/site-packages (from ipython>=7.0->elevenlabs) (0.2.0)\n",
      "Requirement already satisfied: decorator in /home/codespace/.local/lib/python3.10/site-packages (from ipython>=7.0->elevenlabs) (5.1.1)\n",
      "Requirement already satisfied: jedi>=0.16 in /home/codespace/.local/lib/python3.10/site-packages (from ipython>=7.0->elevenlabs) (0.18.2)\n",
      "Requirement already satisfied: matplotlib-inline in /home/codespace/.local/lib/python3.10/site-packages (from ipython>=7.0->elevenlabs) (0.1.6)\n",
      "Requirement already satisfied: pickleshare in /home/codespace/.local/lib/python3.10/site-packages (from ipython>=7.0->elevenlabs) (0.7.5)\n",
      "Requirement already satisfied: prompt-toolkit!=3.0.37,<3.1.0,>=3.0.30 in /home/codespace/.local/lib/python3.10/site-packages (from ipython>=7.0->elevenlabs) (3.0.38)\n",
      "Requirement already satisfied: pygments>=2.4.0 in /home/codespace/.local/lib/python3.10/site-packages (from ipython>=7.0->elevenlabs) (2.15.1)\n",
      "Requirement already satisfied: stack-data in /home/codespace/.local/lib/python3.10/site-packages (from ipython>=7.0->elevenlabs) (0.6.2)\n",
      "Requirement already satisfied: traitlets>=5 in /home/codespace/.local/lib/python3.10/site-packages (from ipython>=7.0->elevenlabs) (5.9.0)\n",
      "Requirement already satisfied: pexpect>4.3 in /home/codespace/.local/lib/python3.10/site-packages (from ipython>=7.0->elevenlabs) (4.8.0)\n",
      "Requirement already satisfied: typing-extensions>=4.2.0 in /home/codespace/.local/lib/python3.10/site-packages (from pydantic>=1.10->elevenlabs) (4.5.0)\n",
      "Requirement already satisfied: charset-normalizer<4,>=2 in /home/codespace/.local/lib/python3.10/site-packages (from requests>=2.20->elevenlabs) (3.1.0)\n",
      "Requirement already satisfied: idna<4,>=2.5 in /home/codespace/.local/lib/python3.10/site-packages (from requests>=2.20->elevenlabs) (3.4)\n",
      "Requirement already satisfied: urllib3<1.27,>=1.21.1 in /home/codespace/.local/lib/python3.10/site-packages (from requests>=2.20->elevenlabs) (1.26.15)\n",
      "Requirement already satisfied: certifi>=2017.4.17 in /home/codespace/.local/lib/python3.10/site-packages (from requests>=2.20->elevenlabs) (2022.12.7)\n",
      "Requirement already satisfied: parso<0.9.0,>=0.8.0 in /home/codespace/.local/lib/python3.10/site-packages (from jedi>=0.16->ipython>=7.0->elevenlabs) (0.8.3)\n",
      "Requirement already satisfied: ptyprocess>=0.5 in /home/codespace/.local/lib/python3.10/site-packages (from pexpect>4.3->ipython>=7.0->elevenlabs) (0.7.0)\n",
      "Requirement already satisfied: wcwidth in /home/codespace/.local/lib/python3.10/site-packages (from prompt-toolkit!=3.0.37,<3.1.0,>=3.0.30->ipython>=7.0->elevenlabs) (0.2.6)\n",
      "Requirement already satisfied: executing>=1.2.0 in /home/codespace/.local/lib/python3.10/site-packages (from stack-data->ipython>=7.0->elevenlabs) (1.2.0)\n",
      "Requirement already satisfied: asttokens>=2.1.0 in /home/codespace/.local/lib/python3.10/site-packages (from stack-data->ipython>=7.0->elevenlabs) (2.2.1)\n",
      "Requirement already satisfied: pure-eval in /home/codespace/.local/lib/python3.10/site-packages (from stack-data->ipython>=7.0->elevenlabs) (0.2.2)\n",
      "Requirement already satisfied: six in /home/codespace/.local/lib/python3.10/site-packages (from asttokens>=2.1.0->stack-data->ipython>=7.0->elevenlabs) (1.16.0)\n",
      "Installing collected packages: pydantic, elevenlabs\n",
      "Successfully installed elevenlabs-0.2.12 pydantic-1.10.7\n",
      "\n",
      "\u001b[1m[\u001b[0m\u001b[34;49mnotice\u001b[0m\u001b[1;39;49m]\u001b[0m\u001b[39;49m A new release of pip is available: \u001b[0m\u001b[31;49m23.1.1\u001b[0m\u001b[39;49m -> \u001b[0m\u001b[32;49m23.1.2\u001b[0m\n",
      "\u001b[1m[\u001b[0m\u001b[34;49mnotice\u001b[0m\u001b[1;39;49m]\u001b[0m\u001b[39;49m To update, run: \u001b[0m\u001b[32;49mpython -m pip install --upgrade pip\u001b[0m\n"
     ]
    }
   ],
   "source": [
    "!pip install elevenlabs"
   ]
  },
  {
   "cell_type": "code",
   "execution_count": 12,
   "metadata": {},
   "outputs": [],
   "source": [
    "from elevenlabs import set_api_key\n",
    "set_api_key(\"16bc562d24b6090fe5035c9458707fe9\")"
   ]
  },
  {
   "cell_type": "code",
   "execution_count": 13,
   "metadata": {},
   "outputs": [
    {
     "ename": "FileNotFoundError",
     "evalue": "[Errno 2] No such file or directory: './sample_0.mp3'",
     "output_type": "error",
     "traceback": [
      "\u001b[0;31m---------------------------------------------------------------------------\u001b[0m",
      "\u001b[0;31mFileNotFoundError\u001b[0m                         Traceback (most recent call last)",
      "Cell \u001b[0;32mIn[13], line 3\u001b[0m\n\u001b[1;32m      1\u001b[0m \u001b[39mfrom\u001b[39;00m \u001b[39melevenlabs\u001b[39;00m \u001b[39mimport\u001b[39;00m clone, generate\n\u001b[0;32m----> 3\u001b[0m voice \u001b[39m=\u001b[39m clone(\n\u001b[1;32m      4\u001b[0m     name\u001b[39m=\u001b[39;49m\u001b[39m\"\u001b[39;49m\u001b[39mAlex\u001b[39;49m\u001b[39m\"\u001b[39;49m,\n\u001b[1;32m      5\u001b[0m     description\u001b[39m=\u001b[39;49m\u001b[39m\"\u001b[39;49m\u001b[39mAn old American male voice with a slight hoarseness in his throat. Perfect for news\u001b[39;49m\u001b[39m\"\u001b[39;49m, \u001b[39m# Optional\u001b[39;49;00m\n\u001b[1;32m      6\u001b[0m     files\u001b[39m=\u001b[39;49m[\u001b[39m\"\u001b[39;49m\u001b[39m./sample_0.mp3\u001b[39;49m\u001b[39m\"\u001b[39;49m, \u001b[39m\"\u001b[39;49m\u001b[39m./sample_1.mp3\u001b[39;49m\u001b[39m\"\u001b[39;49m, \u001b[39m\"\u001b[39;49m\u001b[39m./sample_2.mp3\u001b[39;49m\u001b[39m\"\u001b[39;49m],\n\u001b[1;32m      7\u001b[0m )\n\u001b[1;32m      9\u001b[0m audio \u001b[39m=\u001b[39m generate(text\u001b[39m=\u001b[39m\u001b[39m\"\u001b[39m\u001b[39mHi! I\u001b[39m\u001b[39m'\u001b[39m\u001b[39mm a cloned voice!\u001b[39m\u001b[39m\"\u001b[39m, voice\u001b[39m=\u001b[39mvoice)\n\u001b[1;32m     11\u001b[0m play(audio)\n",
      "File \u001b[0;32m~/.python/current/lib/python3.10/site-packages/elevenlabs/simple.py:87\u001b[0m, in \u001b[0;36mclone\u001b[0;34m(**kwargs)\u001b[0m\n\u001b[1;32m     86\u001b[0m \u001b[39mdef\u001b[39;00m \u001b[39mclone\u001b[39m(\u001b[39m*\u001b[39m\u001b[39m*\u001b[39mkwargs) \u001b[39m-\u001b[39m\u001b[39m>\u001b[39m Voice:\n\u001b[0;32m---> 87\u001b[0m     \u001b[39mreturn\u001b[39;00m Voice\u001b[39m.\u001b[39mfrom_clone(VoiceClone(\u001b[39m*\u001b[39;49m\u001b[39m*\u001b[39;49mkwargs))\n",
      "File \u001b[0;32m~/.python/current/lib/python3.10/site-packages/pydantic/main.py:339\u001b[0m, in \u001b[0;36mpydantic.main.BaseModel.__init__\u001b[0;34m()\u001b[0m\n",
      "File \u001b[0;32m~/.python/current/lib/python3.10/site-packages/pydantic/main.py:1102\u001b[0m, in \u001b[0;36mpydantic.main.validate_model\u001b[0;34m()\u001b[0m\n",
      "File \u001b[0;32m~/.python/current/lib/python3.10/site-packages/elevenlabs/api/voice.py:41\u001b[0m, in \u001b[0;36mVoiceClone.computed_files_tuple\u001b[0;34m(cls, values)\u001b[0m\n\u001b[1;32m     39\u001b[0m files_tuple \u001b[39m=\u001b[39m []\n\u001b[1;32m     40\u001b[0m \u001b[39mfor\u001b[39;00m filepath \u001b[39min\u001b[39;00m values[\u001b[39m\"\u001b[39m\u001b[39mfiles\u001b[39m\u001b[39m\"\u001b[39m]:\n\u001b[0;32m---> 41\u001b[0m     b \u001b[39m=\u001b[39m \u001b[39mopen\u001b[39;49m(filepath, \u001b[39m\"\u001b[39;49m\u001b[39mrb\u001b[39;49m\u001b[39m\"\u001b[39;49m)\n\u001b[1;32m     42\u001b[0m     file_tuple \u001b[39m=\u001b[39m (\u001b[39m\"\u001b[39m\u001b[39mfiles\u001b[39m\u001b[39m\"\u001b[39m, (\u001b[39mf\u001b[39m\u001b[39m\"\u001b[39m\u001b[39m{\u001b[39;00mPath(filepath)\u001b[39m.\u001b[39mstem\u001b[39m}\u001b[39;00m\u001b[39m_\u001b[39m\u001b[39m{\u001b[39;00m\u001b[39mid\u001b[39m(b)\u001b[39m}\u001b[39;00m\u001b[39m\"\u001b[39m, b, \u001b[39m\"\u001b[39m\u001b[39maudio/mpeg\u001b[39m\u001b[39m\"\u001b[39m))\n\u001b[1;32m     43\u001b[0m     files_tuple\u001b[39m.\u001b[39mappend(file_tuple)\n",
      "\u001b[0;31mFileNotFoundError\u001b[0m: [Errno 2] No such file or directory: './sample_0.mp3'"
     ]
    }
   ],
   "source": [
    "from elevenlabs import clone, generate\n",
    "\n",
    "voice = clone(\n",
    "    name=\"Alex\",\n",
    "    description=\"An old American male voice with a slight hoarseness in his throat. Perfect for news\", # Optional\n",
    "    files=[\"./sample_0.mp3\", \"./sample_1.mp3\", \"./sample_2.mp3\"],\n",
    ")\n",
    "\n",
    "audio = generate(text=\"Hi! I'm a cloned voice!\", voice=voice)\n",
    "\n",
    "play(audio)"
   ]
  }
 ],
 "metadata": {
  "kernelspec": {
   "display_name": "Python 3",
   "language": "python",
   "name": "python3"
  },
  "language_info": {
   "codemirror_mode": {
    "name": "ipython",
    "version": 3
   },
   "file_extension": ".py",
   "mimetype": "text/x-python",
   "name": "python",
   "nbconvert_exporter": "python",
   "pygments_lexer": "ipython3",
   "version": "3.10.4"
  },
  "orig_nbformat": 4
 },
 "nbformat": 4,
 "nbformat_minor": 2
}
